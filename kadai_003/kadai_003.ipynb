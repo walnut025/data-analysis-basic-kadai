{
  "nbformat": 4,
  "nbformat_minor": 0,
  "metadata": {
    "colab": {
      "provenance": []
    },
    "kernelspec": {
      "name": "python3",
      "display_name": "Python 3"
    },
    "language_info": {
      "name": "python"
    }
  },
  "cells": [
    {
      "cell_type": "code",
      "execution_count": 2,
      "metadata": {
        "colab": {
          "base_uri": "https://localhost:8080/"
        },
        "id": "vfGlDVfqQSFW",
        "outputId": "94822463-ef79-4a68-af7e-f1f64c8d7cbd"
      },
      "outputs": [
        {
          "output_type": "stream",
          "name": "stdout",
          "text": [
            "行列の積:\n",
            "[[ 4  5  6  7]\n",
            " [12 17 22 27]\n",
            " [20 29 38 47]]\n",
            "計算された行列の要素の最大値: 47\n"
          ]
        }
      ],
      "source": [
        "# NumPyをインポートするコード\n",
        "import numpy as np\n",
        "\n",
        "# AとBの行列を格納する多次元配列のコード\n",
        "A = np.array([[0, 1], [2, 3], [4, 5]])\n",
        "B = np.array([[0, 1, 2, 3], [4, 5, 6, 7]])\n",
        "\n",
        "# 行列の積の計算をするコード\n",
        "C = np.dot(A, B)\n",
        "\n",
        "# 計算結果を表示するコード\n",
        "print(\"行列の積:\")\n",
        "print(C)\n",
        "\n",
        "# 行列の要素の最大値を求めて表示するコード\n",
        "max_value = np.max(C)\n",
        "print(\"計算された行列の要素の最大値:\", max_value)"
      ]
    }
  ]
}